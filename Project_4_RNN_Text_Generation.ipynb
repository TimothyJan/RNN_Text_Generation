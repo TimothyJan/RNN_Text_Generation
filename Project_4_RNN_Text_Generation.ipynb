{
  "nbformat": 4,
  "nbformat_minor": 0,
  "metadata": {
    "colab": {
      "name": "Project 4-RNN-Text-Generation.ipynb",
      "provenance": [],
      "collapsed_sections": [],
      "include_colab_link": true
    },
    "kernelspec": {
      "name": "python3",
      "display_name": "Python 3"
    },
    "language_info": {
      "name": "python"
    }
  },
  "cells": [
    {
      "cell_type": "markdown",
      "metadata": {
        "id": "view-in-github",
        "colab_type": "text"
      },
      "source": [
        "<a href=\"https://colab.research.google.com/github/TimothyJan/RNN_Text_Generation/blob/main/Project_4_RNN_Text_Generation.ipynb\" target=\"_parent\"><img src=\"https://colab.research.google.com/assets/colab-badge.svg\" alt=\"Open In Colab\"/></a>"
      ]
    },
    {
      "cell_type": "markdown",
      "source": [
        "Spring 2022 - CPSC 585-section-13883\n",
        "Project 4 - Recurrent Neural Networks Text Generation\n",
        "Sean Javiya\n",
        "Timothy Jan\n",
        "Timothy Kheang\n",
        "\n",
        "In Project 4, we use an RNN-based language model to generate text for a creative application.\n",
        "\n",
        "Goals for this project are:\n",
        "<ul>\n",
        "  <li>Reading about how RNNs can be used to generate text, and examining several different applications after training on different text corpora.</li>\n",
        "  <li>Using a multi-layer RNN to train and sample from a character-level language model.</li>\n",
        "  <li>Adapting and reusing published model code.</li>\n",
        "  <li>Having some fun.</li>\n",
        "</ul>"
      ],
      "metadata": {
        "id": "0JqoLNUQL6oU"
      }
    },
    {
      "cell_type": "code",
      "execution_count": 1,
      "metadata": {
        "id": "eCr_lbTxLs6e"
      },
      "outputs": [],
      "source": [
        "import tensorflow as tf\n",
        "import numpy as np\n",
        "import os\n",
        "import time\n",
        "import urllib.request, json "
      ]
    },
    {
      "cell_type": "markdown",
      "source": [
        "Download the Elder Scroll's or Shakespearean dataset and read the data."
      ],
      "metadata": {
        "id": "S4ctoJPB_paf"
      }
    },
    {
      "cell_type": "code",
      "source": [
        "'''imported the elder scrolls json file'''\n",
        "# with urllib.request.urlopen(\"https://raw.githubusercontent.com/hmi-utwente/video-game-text-corpora/master/The%20Elder%20Scrolls/data/imperial_library_20200626.json\") as url:\n",
        "#     data_dict = json.loads(url.read().decode())\n",
        "# text=\"\"\n",
        "# for key in data_dict:\n",
        "#   text += data_dict[key]['description'] +' ' + data_dict[key]['title'] + ' ' + data_dict[key]['text']\n",
        "# text[:100]\n",
        "\n",
        "path_to_file = tf.keras.utils.get_file('shakespeare.txt', 'https://storage.googleapis.com/download.tensorflow.org/data/shakespeare.txt')\n",
        "# Read, then decode for py2 compat.\n",
        "text = open(path_to_file, 'rb').read().decode(encoding='utf-8')\n",
        "# length of text is the number of characters in it\n",
        "print(f'Length of text: {len(text)} characters')\n",
        "print(text[:100])"
      ],
      "metadata": {
        "id": "PjHAQwPv2ZQj",
        "colab": {
          "base_uri": "https://localhost:8080/"
        },
        "outputId": "953dceca-f713-4041-d4e8-2e6850800835"
      },
      "execution_count": 2,
      "outputs": [
        {
          "output_type": "stream",
          "name": "stdout",
          "text": [
            "Downloading data from https://storage.googleapis.com/download.tensorflow.org/data/shakespeare.txt\n",
            "1122304/1115394 [==============================] - 0s 0us/step\n",
            "1130496/1115394 [==============================] - 0s 0us/step\n",
            "Length of text: 1115394 characters\n",
            "First Citizen:\n",
            "Before we proceed any further, hear me speak.\n",
            "\n",
            "All:\n",
            "Speak, speak.\n",
            "\n",
            "First Citizen:\n",
            "You\n"
          ]
        }
      ]
    },
    {
      "cell_type": "markdown",
      "source": [
        "Read the Data"
      ],
      "metadata": {
        "id": "hIQCraeN_v7e"
      }
    },
    {
      "cell_type": "code",
      "source": [
        "# unique characters in the file\n",
        "vocab = sorted(set(text))\n",
        "print(f'{len(vocab)} unique characters')"
      ],
      "metadata": {
        "colab": {
          "base_uri": "https://localhost:8080/"
        },
        "id": "ODEUkCSo2uCf",
        "outputId": "09da6a75-9c6e-49a7-a832-140d2fb04d71"
      },
      "execution_count": 3,
      "outputs": [
        {
          "output_type": "stream",
          "name": "stdout",
          "text": [
            "65 unique characters\n"
          ]
        }
      ]
    },
    {
      "cell_type": "markdown",
      "source": [
        "<h1>Process the text</h1>\n",
        "<h2>Vectorize the text.</h2>\n",
        "Before training, you need to convert the strings to a numerical representation.\n",
        "The tf.keras.layers.StringLookup layer can convert each character into a numeric ID. It just needs the text to be split into tokens first."
      ],
      "metadata": {
        "id": "4c9STpH-_1qO"
      }
    },
    {
      "cell_type": "code",
      "source": [
        "example_texts = ['abcdefg', 'xyz']\n",
        "chars = tf.strings.unicode_split(example_texts, input_encoding='UTF-8')\n",
        "chars"
      ],
      "metadata": {
        "colab": {
          "base_uri": "https://localhost:8080/"
        },
        "id": "b6zWduFuuaIs",
        "outputId": "6938d747-e77b-4687-db02-caee39a1c7ad"
      },
      "execution_count": 4,
      "outputs": [
        {
          "output_type": "execute_result",
          "data": {
            "text/plain": [
              "<tf.RaggedTensor [[b'a', b'b', b'c', b'd', b'e', b'f', b'g'], [b'x', b'y', b'z']]>"
            ]
          },
          "metadata": {},
          "execution_count": 4
        }
      ]
    },
    {
      "cell_type": "markdown",
      "source": [
        "Create the tf.keras.layers.StringLookup layer. It onverts from tokens to character IDs:"
      ],
      "metadata": {
        "id": "wwsioWOgu7Pi"
      }
    },
    {
      "cell_type": "code",
      "source": [
        "ids_from_chars = tf.keras.layers.StringLookup(\n",
        "    vocabulary=list(vocab), mask_token=None)\n",
        "ids = ids_from_chars(chars)\n",
        "ids"
      ],
      "metadata": {
        "colab": {
          "base_uri": "https://localhost:8080/"
        },
        "id": "ztbeaqT886Ni",
        "outputId": "df278717-161c-4a39-d954-9908bf4ebd40"
      },
      "execution_count": 5,
      "outputs": [
        {
          "output_type": "execute_result",
          "data": {
            "text/plain": [
              "<tf.RaggedTensor [[40, 41, 42, 43, 44, 45, 46], [63, 64, 65]]>"
            ]
          },
          "metadata": {},
          "execution_count": 5
        }
      ]
    },
    {
      "cell_type": "markdown",
      "source": [
        "This layer recovers the characters from the vectors of IDs, and returns them as a tf.RaggedTensor of characters:"
      ],
      "metadata": {
        "id": "YMRHxp5gvSsF"
      }
    },
    {
      "cell_type": "code",
      "source": [
        "chars_from_ids = tf.keras.layers.StringLookup(\n",
        "    vocabulary=ids_from_chars.get_vocabulary(), invert=True, mask_token=None)\n",
        "chars = chars_from_ids(ids)\n",
        "chars"
      ],
      "metadata": {
        "colab": {
          "base_uri": "https://localhost:8080/"
        },
        "id": "fHnRKiJZuEN_",
        "outputId": "86d0b827-49de-4bbe-b05b-7e7d0ca352b9"
      },
      "execution_count": 6,
      "outputs": [
        {
          "output_type": "execute_result",
          "data": {
            "text/plain": [
              "<tf.RaggedTensor [[b'a', b'b', b'c', b'd', b'e', b'f', b'g'], [b'x', b'y', b'z']]>"
            ]
          },
          "metadata": {},
          "execution_count": 6
        }
      ]
    },
    {
      "cell_type": "markdown",
      "source": [
        "Use tf.strings.reduce_join to join the characters back into strings."
      ],
      "metadata": {
        "id": "fQsbjGoQvlZU"
      }
    },
    {
      "cell_type": "code",
      "source": [
        "tf.strings.reduce_join(chars, axis=-1).numpy()"
      ],
      "metadata": {
        "colab": {
          "base_uri": "https://localhost:8080/"
        },
        "id": "wU3pOFakvUMx",
        "outputId": "0e2052b4-fee8-47b8-9e51-fbe60808e8cb"
      },
      "execution_count": 7,
      "outputs": [
        {
          "output_type": "execute_result",
          "data": {
            "text/plain": [
              "array([b'abcdefg', b'xyz'], dtype=object)"
            ]
          },
          "metadata": {},
          "execution_count": 7
        }
      ]
    },
    {
      "cell_type": "code",
      "source": [
        "def text_from_ids(ids):\n",
        "  return tf.strings.reduce_join(chars_from_ids(ids), axis=-1)\n"
      ],
      "metadata": {
        "id": "jQJmm671vqst"
      },
      "execution_count": 8,
      "outputs": []
    },
    {
      "cell_type": "markdown",
      "source": [
        "<h2>The Prediction Task</h2>\n",
        "Given a character, or a sequence of characters, what is the most probable next character? This is the task you're training the model to perform. The input to the model will be a sequence of characters, and you train the model to predict the output—the following character at each time step.\n",
        "\n",
        "Since RNNs maintain an internal state that depends on the previously seen elements, given all the characters computed until this moment, what is the next character?\n",
        "\n",
        "<h2>Create training examples and targets</h2>\n",
        "Next divide the text into example sequences. Each input sequence will contain seq_length characters from the text.\n",
        "\n",
        "For each input sequence, the corresponding targets contain the same length of text, except shifted one character to the right.\n",
        "\n",
        "So break the text into chunks of seq_length+1. For example, say seq_length is 4 and our text is \"Hello\". The input sequence would be \"Hell\", and the target sequence \"ello\".\n",
        "\n",
        "To do this first use the tf.data.Dataset.from_tensor_slices function to convert the text vector into a stream of character indices."
      ],
      "metadata": {
        "id": "ygvRQ68jwFGm"
      }
    },
    {
      "cell_type": "code",
      "source": [
        "all_ids = ids_from_chars(tf.strings.unicode_split(text, 'UTF-8'))\n",
        "all_ids"
      ],
      "metadata": {
        "colab": {
          "base_uri": "https://localhost:8080/"
        },
        "id": "n07gqUwPvtCD",
        "outputId": "d51f86bd-2907-4e6a-b80f-22f2842a40bc"
      },
      "execution_count": 9,
      "outputs": [
        {
          "output_type": "execute_result",
          "data": {
            "text/plain": [
              "<tf.Tensor: shape=(1115394,), dtype=int64, numpy=array([19, 48, 57, ..., 46,  9,  1])>"
            ]
          },
          "metadata": {},
          "execution_count": 9
        }
      ]
    },
    {
      "cell_type": "markdown",
      "source": [
        ""
      ],
      "metadata": {
        "id": "wywrnl1_wj4D"
      }
    },
    {
      "cell_type": "code",
      "source": [
        "ids_dataset = tf.data.Dataset.from_tensor_slices(all_ids)\n",
        "for ids in ids_dataset.take(10):\n",
        "    print(chars_from_ids(ids).numpy().decode('utf-8'))"
      ],
      "metadata": {
        "colab": {
          "base_uri": "https://localhost:8080/"
        },
        "id": "iWdmxTW4wUQ4",
        "outputId": "7c9ee83a-cec2-49dc-8357-e5eee5ff370d"
      },
      "execution_count": 10,
      "outputs": [
        {
          "output_type": "stream",
          "name": "stdout",
          "text": [
            "F\n",
            "i\n",
            "r\n",
            "s\n",
            "t\n",
            " \n",
            "C\n",
            "i\n",
            "t\n",
            "i\n"
          ]
        }
      ]
    },
    {
      "cell_type": "markdown",
      "source": [
        "The batch method lets you easily convert these individual characters to sequences of the desired size."
      ],
      "metadata": {
        "id": "kqaTSg_kwsg-"
      }
    },
    {
      "cell_type": "code",
      "source": [
        "seq_length = 100\n",
        "examples_per_epoch = len(text)//(seq_length+1)\n",
        "\n",
        "sequences = ids_dataset.batch(seq_length+1, drop_remainder=True)\n",
        "\n",
        "for seq in sequences.take(1):\n",
        "  print(chars_from_ids(seq))"
      ],
      "metadata": {
        "colab": {
          "base_uri": "https://localhost:8080/"
        },
        "id": "zsYC0q3OwhPk",
        "outputId": "bf52f056-5f0d-4a78-b594-40b77d803967"
      },
      "execution_count": 11,
      "outputs": [
        {
          "output_type": "stream",
          "name": "stdout",
          "text": [
            "tf.Tensor(\n",
            "[b'F' b'i' b'r' b's' b't' b' ' b'C' b'i' b't' b'i' b'z' b'e' b'n' b':'\n",
            " b'\\n' b'B' b'e' b'f' b'o' b'r' b'e' b' ' b'w' b'e' b' ' b'p' b'r' b'o'\n",
            " b'c' b'e' b'e' b'd' b' ' b'a' b'n' b'y' b' ' b'f' b'u' b'r' b't' b'h'\n",
            " b'e' b'r' b',' b' ' b'h' b'e' b'a' b'r' b' ' b'm' b'e' b' ' b's' b'p'\n",
            " b'e' b'a' b'k' b'.' b'\\n' b'\\n' b'A' b'l' b'l' b':' b'\\n' b'S' b'p' b'e'\n",
            " b'a' b'k' b',' b' ' b's' b'p' b'e' b'a' b'k' b'.' b'\\n' b'\\n' b'F' b'i'\n",
            " b'r' b's' b't' b' ' b'C' b'i' b't' b'i' b'z' b'e' b'n' b':' b'\\n' b'Y'\n",
            " b'o' b'u' b' '], shape=(101,), dtype=string)\n"
          ]
        }
      ]
    },
    {
      "cell_type": "code",
      "source": [
        "for seq in sequences.take(5):\n",
        "  print(text_from_ids(seq).numpy())"
      ],
      "metadata": {
        "colab": {
          "base_uri": "https://localhost:8080/"
        },
        "id": "erVoYFeVwvTv",
        "outputId": "bebfc071-3734-4be0-8c2e-31dd00bd41bc"
      },
      "execution_count": 12,
      "outputs": [
        {
          "output_type": "stream",
          "name": "stdout",
          "text": [
            "b'First Citizen:\\nBefore we proceed any further, hear me speak.\\n\\nAll:\\nSpeak, speak.\\n\\nFirst Citizen:\\nYou '\n",
            "b'are all resolved rather to die than to famish?\\n\\nAll:\\nResolved. resolved.\\n\\nFirst Citizen:\\nFirst, you k'\n",
            "b\"now Caius Marcius is chief enemy to the people.\\n\\nAll:\\nWe know't, we know't.\\n\\nFirst Citizen:\\nLet us ki\"\n",
            "b\"ll him, and we'll have corn at our own price.\\nIs't a verdict?\\n\\nAll:\\nNo more talking on't; let it be d\"\n",
            "b'one: away, away!\\n\\nSecond Citizen:\\nOne word, good citizens.\\n\\nFirst Citizen:\\nWe are accounted poor citi'\n"
          ]
        }
      ]
    },
    {
      "cell_type": "markdown",
      "source": [
        "For training you'll need a dataset of (input, label) pairs. Where input and label are sequences. At each time step the input is the current character and the label is the next character.\n",
        "\n",
        "Here's a function that takes a sequence as input, duplicates, and shifts it to align the input and label for each timestep:"
      ],
      "metadata": {
        "id": "OwKzugSsxLYn"
      }
    },
    {
      "cell_type": "code",
      "source": [
        "def split_input_target(sequence):\n",
        "    input_text = sequence[:-1]\n",
        "    target_text = sequence[1:]\n",
        "    return input_text, target_text\n",
        "\n",
        "split_input_target(list(\"Tensorflow\"))\n",
        "dataset = sequences.map(split_input_target)\n",
        "\n",
        "for input_example, target_example in dataset.take(1):\n",
        "    print(\"Input :\", text_from_ids(input_example).numpy())\n",
        "    print(\"Target:\", text_from_ids(target_example).numpy())"
      ],
      "metadata": {
        "colab": {
          "base_uri": "https://localhost:8080/"
        },
        "id": "ng09QHSGwyCB",
        "outputId": "1789dbc1-520a-4b56-d3a7-e51e8c2e87b3"
      },
      "execution_count": 13,
      "outputs": [
        {
          "output_type": "stream",
          "name": "stdout",
          "text": [
            "Input : b'First Citizen:\\nBefore we proceed any further, hear me speak.\\n\\nAll:\\nSpeak, speak.\\n\\nFirst Citizen:\\nYou'\n",
            "Target: b'irst Citizen:\\nBefore we proceed any further, hear me speak.\\n\\nAll:\\nSpeak, speak.\\n\\nFirst Citizen:\\nYou '\n"
          ]
        }
      ]
    },
    {
      "cell_type": "markdown",
      "source": [
        "<h2>Create training batches</h2>\n",
        "You used tf.data to split the text into manageable sequences. But before feeding this data into the model, you need to shuffle the data and pack it into batches."
      ],
      "metadata": {
        "id": "uWNNN1wYxfuU"
      }
    },
    {
      "cell_type": "code",
      "source": [
        "# Batch size\n",
        "BATCH_SIZE = 64\n",
        "\n",
        "# Buffer size to shuffle the dataset\n",
        "# (TF data is designed to work with possibly infinite sequences,\n",
        "# so it doesn't attempt to shuffle the entire sequence in memory. Instead,\n",
        "# it maintains a buffer in which it shuffles elements).\n",
        "BUFFER_SIZE = 10000\n",
        "\n",
        "dataset = (\n",
        "    dataset\n",
        "    .shuffle(BUFFER_SIZE)\n",
        "    .batch(BATCH_SIZE, drop_remainder=True)\n",
        "    .prefetch(tf.data.experimental.AUTOTUNE))\n",
        "\n",
        "dataset"
      ],
      "metadata": {
        "colab": {
          "base_uri": "https://localhost:8080/"
        },
        "id": "Lg5_JLblxWJs",
        "outputId": "057262a3-01f2-461c-b150-011008ed3282"
      },
      "execution_count": 14,
      "outputs": [
        {
          "output_type": "execute_result",
          "data": {
            "text/plain": [
              "<PrefetchDataset element_spec=(TensorSpec(shape=(64, 100), dtype=tf.int64, name=None), TensorSpec(shape=(64, 100), dtype=tf.int64, name=None))>"
            ]
          },
          "metadata": {},
          "execution_count": 14
        }
      ]
    },
    {
      "cell_type": "markdown",
      "source": [
        "<h1>Build The Model</h1>\n",
        "This section defines the model as a keras.Model subclass (For details see Making new Layers and Models via subclassing).\n",
        "\n",
        "This model has three layers:\n",
        "<ul>\n",
        "  <li>tf.keras.layers.Embedding: The input layer. A trainable lookup table that will map each character-ID to a vector with embedding_dim dimensions;</li>\n",
        "  <li>tf.keras.layers.GRU: A type of RNN with size units=rnn_units (You can also use an LSTM layer here.)</li>\n",
        "  <li>tf.keras.layers.Dense: The output layer, with vocab_size outputs. It outputs one logit for each character in the vocabulary. These are the log-likelihood of each character according to the model.</li>\n",
        "</ul>"
      ],
      "metadata": {
        "id": "XWvJPLPIx1p0"
      }
    },
    {
      "cell_type": "code",
      "source": [
        "# Length of the vocabulary in chars\n",
        "vocab_size = len(vocab)\n",
        "\n",
        "# The embedding dimension\n",
        "embedding_dim = 256\n",
        "\n",
        "# Number of RNN units\n",
        "rnn_units = 1024\n",
        "\n",
        "class MyModel(tf.keras.Model):\n",
        "  def __init__(self, vocab_size, embedding_dim, rnn_units):\n",
        "    super().__init__(self)\n",
        "    self.embedding = tf.keras.layers.Embedding(vocab_size, embedding_dim)\n",
        "    self.gru = tf.keras.layers.GRU(rnn_units,\n",
        "                                   return_sequences=True,\n",
        "                                   return_state=True)\n",
        "    self.dense = tf.keras.layers.Dense(vocab_size)\n",
        "\n",
        "  def call(self, inputs, states=None, return_state=False, training=False):\n",
        "    x = inputs\n",
        "    x = self.embedding(x, training=training)\n",
        "    if states is None:\n",
        "      states = self.gru.get_initial_state(x)\n",
        "    x, states = self.gru(x, initial_state=states, training=training)\n",
        "    x = self.dense(x, training=training)\n",
        "\n",
        "    if return_state:\n",
        "      return x, states\n",
        "    else:\n",
        "      return x\n",
        "\n",
        "model = MyModel(\n",
        "    # Be sure the vocabulary size matches the `StringLookup` layers.\n",
        "    vocab_size=len(ids_from_chars.get_vocabulary()),\n",
        "    embedding_dim=embedding_dim,\n",
        "    rnn_units=rnn_units)"
      ],
      "metadata": {
        "id": "kpOtbBZ5xp9b"
      },
      "execution_count": 15,
      "outputs": []
    },
    {
      "cell_type": "markdown",
      "source": [
        "<h1>Try the model</h1>\n",
        "Now run the model to see that it behaves as expected.\n",
        "\n",
        "First check the shape of the output:"
      ],
      "metadata": {
        "id": "6MBXoYiGyN1t"
      }
    },
    {
      "cell_type": "code",
      "source": [
        "for input_example_batch, target_example_batch in dataset.take(1):\n",
        "    example_batch_predictions = model(input_example_batch)\n",
        "    print(example_batch_predictions.shape, \"# (batch_size, sequence_length, vocab_size)\")"
      ],
      "metadata": {
        "colab": {
          "base_uri": "https://localhost:8080/"
        },
        "id": "IlMFJ1l2yL6N",
        "outputId": "b6d0e0d9-f815-4132-9331-c1f52372f281"
      },
      "execution_count": 16,
      "outputs": [
        {
          "output_type": "stream",
          "name": "stdout",
          "text": [
            "(64, 100, 66) # (batch_size, sequence_length, vocab_size)\n"
          ]
        }
      ]
    },
    {
      "cell_type": "code",
      "source": [
        "model.summary()"
      ],
      "metadata": {
        "colab": {
          "base_uri": "https://localhost:8080/"
        },
        "id": "Mm89Pc-1Ut1b",
        "outputId": "cffbd2d5-6d8c-4943-aaba-8f2d75d89362"
      },
      "execution_count": 17,
      "outputs": [
        {
          "output_type": "stream",
          "name": "stdout",
          "text": [
            "Model: \"my_model\"\n",
            "_________________________________________________________________\n",
            " Layer (type)                Output Shape              Param #   \n",
            "=================================================================\n",
            " embedding (Embedding)       multiple                  16896     \n",
            "                                                                 \n",
            " gru (GRU)                   multiple                  3938304   \n",
            "                                                                 \n",
            " dense (Dense)               multiple                  67650     \n",
            "                                                                 \n",
            "=================================================================\n",
            "Total params: 4,022,850\n",
            "Trainable params: 4,022,850\n",
            "Non-trainable params: 0\n",
            "_________________________________________________________________\n"
          ]
        }
      ]
    },
    {
      "cell_type": "markdown",
      "source": [
        "To get actual predictions from the model you need to sample from the output distribution, to get actual character indices. This distribution is defined by the logits over the character vocabulary.\n",
        "using the first example in the batch, this gives us, at each timestep, a prediction of the next character index:"
      ],
      "metadata": {
        "id": "QR9a-yGJU-ff"
      }
    },
    {
      "cell_type": "code",
      "source": [
        "sampled_indices = tf.random.categorical(example_batch_predictions[0], num_samples=1)\n",
        "sampled_indices = tf.squeeze(sampled_indices, axis=-1).numpy()\n",
        "sampled_indices"
      ],
      "metadata": {
        "colab": {
          "base_uri": "https://localhost:8080/"
        },
        "id": "ZkggEVwZU5wY",
        "outputId": "da8bba7b-89cf-42f6-9511-eb6e182d670b"
      },
      "execution_count": 18,
      "outputs": [
        {
          "output_type": "execute_result",
          "data": {
            "text/plain": [
              "array([ 0, 52,  6, 37, 53, 15, 44, 34,  8, 28, 33, 26, 53,  1,  1, 45, 37,\n",
              "        3, 35, 13, 44, 52,  6, 44, 50, 55, 37, 28,  5, 52, 16, 49, 55, 47,\n",
              "       16, 59, 55, 62, 62,  3, 39, 34, 59, 55, 49, 38, 51, 33,  0, 27, 31,\n",
              "        5, 65, 22, 31, 25, 53, 52, 25, 22, 37,  2, 37, 52, 12, 45, 25, 59,\n",
              "       26, 58, 57, 43,  2,  8, 29, 52, 41,  6, 35, 31, 37,  9, 54, 65, 21,\n",
              "       37, 28, 10,  2, 21, 58, 18,  7, 32, 24,  5, 37, 12, 43, 35])"
            ]
          },
          "metadata": {},
          "execution_count": 18
        }
      ]
    },
    {
      "cell_type": "markdown",
      "source": [
        "Decoded text predicted by untrained model:\n"
      ],
      "metadata": {
        "id": "qXTNGBVnVSUX"
      }
    },
    {
      "cell_type": "code",
      "source": [
        "print(\"Input:\\n\", text_from_ids(input_example_batch[0]).numpy())\n",
        "print()\n",
        "print(\"Next Char Predictions:\\n\", text_from_ids(sampled_indices).numpy())"
      ],
      "metadata": {
        "colab": {
          "base_uri": "https://localhost:8080/"
        },
        "id": "wg3ryi3fVGda",
        "outputId": "6d4480b8-5102-4938-a3f3-823263f763f3"
      },
      "execution_count": 19,
      "outputs": [
        {
          "output_type": "stream",
          "name": "stdout",
          "text": [
            "Input:\n",
            " b'ingman:\\nCome, we are fellows and friends: he was ever too\\nhard for him; I have heard him say so hims'\n",
            "\n",
            "Next Char Predictions:\n",
            " b\"[UNK]m'XnBeU-OTMn\\n\\nfX!V?em'ekpXO&mCjphCtpww!ZUtpjYlT[UNK]NR&zIRLnmLIX Xm;fLtMsrd -Pmb'VRX.ozHXO3 HsE,SK&X;dV\"\n"
          ]
        }
      ]
    },
    {
      "cell_type": "markdown",
      "source": [
        "<h1>Train the model</h1>\n",
        "Given the previous RNN state, and the input this time step, predict the class of the next character.\n",
        "<h2>Attach an optimizer, and a loss function</h2>\n",
        "The standard tf.keras.losses.sparse_categorical_crossentropy loss function works in this case because it is applied across the last dimension of the predictions.\n",
        "\n",
        "Because our model returns logits, you need to set the from_logits flag."
      ],
      "metadata": {
        "id": "jUX43TNRVdFC"
      }
    },
    {
      "cell_type": "code",
      "source": [
        "loss = tf.losses.SparseCategoricalCrossentropy(from_logits=True)\n",
        "example_batch_mean_loss = loss(target_example_batch, example_batch_predictions)\n",
        "print(\"Prediction shape: \", example_batch_predictions.shape, \" # (batch_size, sequence_length, vocab_size)\")\n",
        "print(\"Mean loss:        \", example_batch_mean_loss)"
      ],
      "metadata": {
        "colab": {
          "base_uri": "https://localhost:8080/"
        },
        "id": "YdjtU7qfVWbZ",
        "outputId": "5347f833-0bc4-4f41-964c-dad65a6d32b8"
      },
      "execution_count": 20,
      "outputs": [
        {
          "output_type": "stream",
          "name": "stdout",
          "text": [
            "Prediction shape:  (64, 100, 66)  # (batch_size, sequence_length, vocab_size)\n",
            "Mean loss:         tf.Tensor(4.1889195, shape=(), dtype=float32)\n"
          ]
        }
      ]
    },
    {
      "cell_type": "markdown",
      "source": [
        "A newly initialized model shouldn't be too sure of itself, the output logits should all have similar magnitudes. To confirm this you can check that the exponential of the mean loss is approximately equal to the vocabulary size. A much higher loss means the model is sure of its wrong answers, and is badly initialized:"
      ],
      "metadata": {
        "id": "qgRLi-RlV1pL"
      }
    },
    {
      "cell_type": "code",
      "source": [
        "tf.exp(example_batch_mean_loss).numpy()"
      ],
      "metadata": {
        "colab": {
          "base_uri": "https://localhost:8080/"
        },
        "id": "qEPkvmWDVuxh",
        "outputId": "7b7b1458-7500-47f6-eb62-47c273491703"
      },
      "execution_count": 21,
      "outputs": [
        {
          "output_type": "execute_result",
          "data": {
            "text/plain": [
              "65.95149"
            ]
          },
          "metadata": {},
          "execution_count": 21
        }
      ]
    },
    {
      "cell_type": "markdown",
      "source": [
        "Configure the training procedure using the tf.keras.Model.compile method. Use tf.keras.optimizers.Adam with default arguments and the loss function."
      ],
      "metadata": {
        "id": "s73s12hhV4-g"
      }
    },
    {
      "cell_type": "code",
      "source": [
        "model.compile(optimizer='adam', loss=loss)"
      ],
      "metadata": {
        "id": "gQOtT1qiV3TC"
      },
      "execution_count": 22,
      "outputs": []
    },
    {
      "cell_type": "markdown",
      "source": [
        "<h2>Configure Checkpoints</h2>\n",
        "Use a tf.keras.callbacks.ModelCheckpoint to ensure that checkpoints are saved during training:"
      ],
      "metadata": {
        "id": "zo1KAh-EV9ca"
      }
    },
    {
      "cell_type": "code",
      "source": [
        "# Directory where the checkpoints will be saved\n",
        "checkpoint_dir = './training_checkpoints'\n",
        "# Name of the checkpoint files\n",
        "checkpoint_prefix = os.path.join(checkpoint_dir, \"ckpt_{epoch}\")\n",
        "\n",
        "checkpoint_callback = tf.keras.callbacks.ModelCheckpoint(\n",
        "    filepath=checkpoint_prefix,\n",
        "    save_weights_only=True)"
      ],
      "metadata": {
        "id": "lopLf__XV6i9"
      },
      "execution_count": 23,
      "outputs": []
    },
    {
      "cell_type": "markdown",
      "source": [
        "<h2>Execute the training</h2>\n",
        "To keep training time reasonable, use 10 epochs to train the model. In Colab, set the runtime to GPU for faster training."
      ],
      "metadata": {
        "id": "J6pgF9vsWPtJ"
      }
    },
    {
      "cell_type": "code",
      "source": [
        "EPOCHS = 5\n",
        "history = model.fit(dataset, epochs=EPOCHS, callbacks=[checkpoint_callback])"
      ],
      "metadata": {
        "colab": {
          "base_uri": "https://localhost:8080/"
        },
        "id": "7aJ9q8u_WDxD",
        "outputId": "02253234-04a5-4ac3-f63e-4be17f1bc335"
      },
      "execution_count": 30,
      "outputs": [
        {
          "output_type": "stream",
          "name": "stdout",
          "text": [
            "Epoch 1/5\n",
            "172/172 [==============================] - 876s 5s/step - loss: 1.9818\n",
            "Epoch 2/5\n",
            "172/172 [==============================] - 870s 5s/step - loss: 1.7009\n",
            "Epoch 3/5\n",
            "172/172 [==============================] - 878s 5s/step - loss: 1.5412\n",
            "Epoch 4/5\n",
            "172/172 [==============================] - 870s 5s/step - loss: 1.4430\n",
            "Epoch 5/5\n",
            "172/172 [==============================] - 892s 5s/step - loss: 1.3758\n"
          ]
        }
      ]
    },
    {
      "cell_type": "markdown",
      "source": [
        "<h1>Generate text</h1>\n",
        "The simplest way to generate text with this model is to run it in a loop, and keep track of the model's internal state as you execute it.<br>\n",
        "Each time you call the model you pass in some text and an internal state. The model returns a prediction for the next character and its new state. Pass the prediction and state back in to continue generating text.\n",
        "\n",
        "The following makes a single step prediction:"
      ],
      "metadata": {
        "id": "J8AxIH-pVOZO"
      }
    },
    {
      "cell_type": "code",
      "source": [
        "class OneStep(tf.keras.Model):\n",
        "  def __init__(self, model, chars_from_ids, ids_from_chars, temperature=1.0):\n",
        "    super().__init__()\n",
        "    self.temperature = temperature\n",
        "    self.model = model\n",
        "    self.chars_from_ids = chars_from_ids\n",
        "    self.ids_from_chars = ids_from_chars\n",
        "\n",
        "    # Create a mask to prevent \"[UNK]\" from being generated.\n",
        "    skip_ids = self.ids_from_chars(['[UNK]'])[:, None]\n",
        "    sparse_mask = tf.SparseTensor(\n",
        "        # Put a -inf at each bad index.\n",
        "        values=[-float('inf')]*len(skip_ids),\n",
        "        indices=skip_ids,\n",
        "        # Match the shape to the vocabulary\n",
        "        dense_shape=[len(ids_from_chars.get_vocabulary())])\n",
        "    self.prediction_mask = tf.sparse.to_dense(sparse_mask)\n",
        "\n",
        "  @tf.function\n",
        "  def generate_one_step(self, inputs, states=None):\n",
        "    # Convert strings to token IDs.\n",
        "    input_chars = tf.strings.unicode_split(inputs, 'UTF-8')\n",
        "    input_ids = self.ids_from_chars(input_chars).to_tensor()\n",
        "\n",
        "    # Run the model.\n",
        "    # predicted_logits.shape is [batch, char, next_char_logits]\n",
        "    predicted_logits, states = self.model(inputs=input_ids, states=states,\n",
        "                                          return_state=True)\n",
        "    # Only use the last prediction.\n",
        "    predicted_logits = predicted_logits[:, -1, :]\n",
        "    predicted_logits = predicted_logits/self.temperature\n",
        "    # Apply the prediction mask: prevent \"[UNK]\" from being generated.\n",
        "    predicted_logits = predicted_logits + self.prediction_mask\n",
        "\n",
        "    # Sample the output logits to generate token IDs.\n",
        "    predicted_ids = tf.random.categorical(predicted_logits, num_samples=1)\n",
        "    predicted_ids = tf.squeeze(predicted_ids, axis=-1)\n",
        "\n",
        "    # Convert from token ids to characters\n",
        "    predicted_chars = self.chars_from_ids(predicted_ids)\n",
        "\n",
        "    # Return the characters and model state.\n",
        "    return predicted_chars, states"
      ],
      "metadata": {
        "id": "seRFW5wzWOyX"
      },
      "execution_count": 32,
      "outputs": []
    },
    {
      "cell_type": "code",
      "source": [
        "one_step_model = OneStep(model, chars_from_ids, ids_from_chars)"
      ],
      "metadata": {
        "id": "XPixnmNaVl3L"
      },
      "execution_count": 33,
      "outputs": []
    },
    {
      "cell_type": "markdown",
      "source": [
        "Run it in a loop to generate some text. Looking at the generated text, you'll see the model knows when to capitalize, make paragraphs and imitates a Shakespeare-like writing vocabulary. With the small number of training epochs, it has not yet learned to form coherent sentences."
      ],
      "metadata": {
        "id": "MiLk6_irVZwg"
      }
    },
    {
      "cell_type": "code",
      "source": [
        "start = time.time()\n",
        "states = None\n",
        "next_char = tf.constant(['ROMEO:'])\n",
        "result = [next_char]\n",
        "\n",
        "for n in range(1000):\n",
        "  next_char, states = one_step_model.generate_one_step(next_char, states=states)\n",
        "  result.append(next_char)\n",
        "\n",
        "result = tf.strings.join(result)\n",
        "end = time.time()\n",
        "print(result[0].numpy().decode('utf-8'), '\\n\\n' + '_'*80)\n",
        "print('\\nRun time:', end - start)"
      ],
      "metadata": {
        "colab": {
          "base_uri": "https://localhost:8080/"
        },
        "id": "-WcC5oMbVYJT",
        "outputId": "ac842366-693f-4c86-fc3a-07f136e74296"
      },
      "execution_count": 34,
      "outputs": [
        {
          "output_type": "stream",
          "name": "stdout",
          "text": [
            "ROMEO:\n",
            "As lett thou art the master!\n",
            "\n",
            "COMINIUS:\n",
            "I has with him;\n",
            "Which fells, will I straight thou since,\n",
            "No fair of heavent spariting.\n",
            "He's, there are mine, or we she that the king's rest; and my\n",
            "loss, you will rance they will be perpeded\n",
            "and such a\n",
            "force better brew ittes and consul, inspeal'd.\n",
            "\n",
            "QUEEN MARGARET:\n",
            "Nay in more than here long of this wife were nor man.\n",
            "\n",
            "QUEEN ELIZABETH:\n",
            "Even unto Richmond: I came to my king?\n",
            "\n",
            "KING EDWIA that we end reigns of done.\n",
            "\n",
            "QUEEN MARGARET:\n",
            "Grum me, is heaven us.\n",
            "\n",
            "CATESBY:\n",
            "You are on; 'hen.\n",
            "\n",
            "MERCUTIO:\n",
            "Now, loving with a pitch here!\n",
            "\n",
            "MAren Marchuman:\n",
            "Some they covert the king of soltier swarns,\n",
            "They diddn pepsounk-dights you command?\n",
            "\n",
            "MISTRESS OF YORK:\n",
            "How hast the ten this confuse man, best more son straight sir.\n",
            "\n",
            "ROMEO:\n",
            "Yet har not tood my lord; the corrow cornect me pass'd.\n",
            "Mark cause 'ncounte Prist; now sir, they speak,\n",
            "better draw our freely to to be pault\n",
            "Is night to Myrancif and to helf till answer?\n",
            "\n",
            "QUEEN EFIZALE:\n",
            "More toad!\n",
            "\n",
            "COMILINIUS:\n",
            "Hard!\n",
            "\n",
            "CLAU \n",
            "\n",
            "________________________________________________________________________________\n",
            "\n",
            "Run time: 3.1393420696258545\n"
          ]
        }
      ]
    },
    {
      "cell_type": "markdown",
      "source": [
        "The easiest thing you can do to improve the results is to train it for longer (try EPOCHS = 30).\n",
        "\n",
        "You can also experiment with a different start string, try adding another RNN layer to improve the model's accuracy, or adjust the temperature parameter to generate more or less random predictions.\n",
        "\n",
        "If you want the model to generate text faster the easiest thing you can do is batch the text generation. In the example below the model generates 5 outputs in about the same time it took to generate 1 above."
      ],
      "metadata": {
        "id": "wONo0ImkVtId"
      }
    },
    {
      "cell_type": "code",
      "source": [
        "start = time.time()\n",
        "states = None\n",
        "next_char = tf.constant(['ROMEO:', 'ROMEO:', 'ROMEO:', 'ROMEO:', 'ROMEO:'])\n",
        "result = [next_char]\n",
        "\n",
        "for n in range(1000):\n",
        "  next_char, states = one_step_model.generate_one_step(next_char, states=states)\n",
        "  result.append(next_char)\n",
        "\n",
        "result = tf.strings.join(result)\n",
        "end = time.time()\n",
        "print(result, '\\n\\n' + '_'*80)\n",
        "print('\\nRun time:', end - start)"
      ],
      "metadata": {
        "colab": {
          "base_uri": "https://localhost:8080/"
        },
        "id": "ijNGYT8_VhAX",
        "outputId": "317b63aa-803c-4551-a0f9-9d6874a09f35"
      },
      "execution_count": 35,
      "outputs": [
        {
          "output_type": "stream",
          "name": "stdout",
          "text": [
            "tf.Tensor(\n",
            "[b\"ROMEO:\\nWhat suns and use,\\nAnd cannot with holy mine everys of their felt.\\n\\nHENRY BOLINGBBROKE:\\nConserve peace, bearing, taloug's name, of sound,\\nHe hopes made the people yet of content leaves\\nthey exinciss not bount. Have I bid the wext\\nTo make the mistress than he mark warths their tombless;\\nBut raily dines. Aufidius,\\nAnd what it imps'd me in cheeks not so.\\n\\nBIONTES:\\nO, it not speak?\\nWhy, so hath but approach whip the city;\\nAnd the ends of Montagues\\nOf all yourself men that home. I stand theee in this night?\\nWell as suinted, Roman! no, no?\\n\\nMARCIUS:\\nHe'll not great to the court?\\n\\nThird ConstBRAKE:\\nTherefore! his loddly sir, and the noble--dod\\nOf revive the king contemn'd fath.\\n\\nCAPULET:\\n\\nFirst Spritten:\\nAfter him, thbook help this.\\n\\nFLORIZEL:\\nHere not cas off stays charge to stual; and fraped by mask my majaginate-fraims?\\nWhorsess, mercy that victory for the eatter-fatch.\\nProve too learn. If you so?\\n\\nGONZALO:\\nAy thoushal'ce, my life to lose them work.\\nHis choose is murderer ear now.\\n\\nWARWIC\"\n",
            " b\"ROMEO:\\nWherein thou latest may,' took his citwerlipy?\\n\\nFirst Senator:\\nO, sweeter cannece\\nHath seother the head that woes!\\nMarcius doth arm as, bands.\\n\\nRICHASk:\\nMy trush'd my hors; nor and?\\nIf your princest thoughts not honour.\\nO, the heaven present boy!\\n\\nGLOUCESTER:\\nWhat durst thou hath not behold in that little woes:\\nNarry, good Carmilaban, apposition.\\n\\nISABELLA:\\nBut, that end follown; sir; if herefords\\nOur gentless thanks.\\n\\nPETRUCHIO:\\nBut when I do the way;\\nWhen my sir. I'll follow.\\n\\nMERCUTIO:\\nI gone to the Duke warwick in their hundred:\\nIf that wounds who should have entrement as he dothings\\nMeaner, take lead worstrume me?\\nANd Icknow?\\n\\nDUKE OF YORK:\\nSir do both my master! I hoe for What? not seems was our daughter:\\nI leal upon my mocked:\\n'Bincellow's departs and to pome and dake\\nHave tood to us. Told thou the master:\\nThought the English innuchment cleans,\\nAnd farewell the lawd in strenght; and we not;\\nWhich the toice.\\n\\nWARWICK:\\nWall singled against them. I'll king,\\nFor which you will to t\"\n",
            " b\"ROMEO:\\nCan is read and godd if thou press'd unto whoods that hath not not too of grace\\nAnd knell's the wor the highword and be sanish'd.\\n\\nSICINIUS:\\nLet no me;\\nMore fearnst striked strive\\nTo as a purpets with such man-lift looks in honour,\\nAnd frame most counsel Coventry his throng these gone!\\n\\nCORIOLANUS:\\nGo, might bring it intatring weeld\\nshed at were the bitter watch it.\\n\\nMENENIUS:\\nPrain you,\\nHave had done the word is comfort. Poacts!\\n\\nLADY CAPULET:\\nPeace, crevil, besteem,\\nFor strong crasted nothing but up;\\nAgainst the worstrogs the battle and before the head,\\nCon untient, I must washing thee, more\\nThan won to thy air, King of England!\\nLet's too fee signning and confirmas,\\nAnd Poor Aufidius, that were not rid for the begus Off-corceive\\nthat back the one the noble courin press as thou recked his sink?\\n\\nPETRUCHIO:\\nOur wife is kindly, and you were to so,\\nThan with the warrant be how out we-harp screet 'Gon?\\nMaster or the work, or a king.\\nWhat, lovence calls; he's too Tamins before to gring\\nMa\"\n",
            " b\"ROMEO:\\nYou shall be so forgot it were as heaven\\nDo in this unseel in prunce is stander\\nThen use take our honour in thoseward, thou wells.\\nCall that Marcius as you will.\\n\\nNurse:\\nHome, comfort, sir, you make here recounteen;\\nAnd my so lists. We'll to the hoise.\\nFarewell: in it flad you well; my lord, to meland him speak.\\nNor cannot be slue in his bodow.\\n\\nFirst Senator:\\nPetruck! let's bear him if it is young withsclings:\\n'Sece ald marren, know your cuswing\\nheards my liar. And Forth the king, and stemble herd,\\nThat as pament reotable screachs,\\nWhen dost thou art fearful disgrace.\\n\\nDUKE VINCENTIO:\\nThou wilt was my boy:\\nTo 'deakens common his son, man, let me but a slave they dow.\\n\\nDUKE OF AUMERLE:\\nO, not to the lack o' the extremory.\\n\\nKING RICHARD III:\\nHast thou art thou your laids:\\nAnd, city forthoughts with the each of cain; and man our livits-pill'd;\\nWhere's my swords for the wellow be-thine.\\nI will, me ade hot lazen, ore of which is.\\n\\nFROSIO:\\nIt is all despated in the with winds.\\n'Tis none un\"\n",
            " b\"ROMEO:\\nMy lord, as it is be: do it envoous hed!\\n\\nGLOUCESTER:\\nMy lord, full of seconds away.\\n\\nADHAR:\\nOur love?\\n\\nShe:\\nAy, and finds, call dryaping opprise and taints\\nA plail out of an indery of that dost thrurts\\nIsabelling. when they slavest it, not not seek of threat mark!\\nTo reason puirly fore arms.\\nIs is his poht well the fates; treak the gods;\\nAnd well I this an earths,\\nBread absequaitians and contented in their sea,\\nDisolding our since and contonner,\\nAnd sans her own occaster, leave you do their brown.\\nIf they hiar, a\\nsendence, holliful nor none. She would have too well.\\nI cannot contendy kingly slight\\nand day out my swift behere them\\npresent Forth, my loving beholdows to place,\\nEven honour'd upon thy name,---\\n\\nSAnTSANUS:\\nHe sits be rused.\\n\\nNurse:\\nO, who 'maging thee, do you were, nature.\\n\\nGLOUCESTER:\\nMore cries to the king:' I think none of your crold,\\nWho is curned his tind or daughter met, and then our dep'st\\nThe wat little twenty to unfoot:\\nHis night in Purition with me: sir.\\n\\nPETRUCH\"], shape=(5,), dtype=string) \n",
            "\n",
            "________________________________________________________________________________\n",
            "\n",
            "Run time: 4.7767157554626465\n"
          ]
        }
      ]
    },
    {
      "cell_type": "markdown",
      "source": [
        "<h2>Export the generator</h2>\n",
        "This single-step model can easily be saved and restored, allowing you to use it anywhere a tf.saved_model is accepted.\n"
      ],
      "metadata": {
        "id": "n3S6cepXj7WV"
      }
    },
    {
      "cell_type": "code",
      "source": [
        "tf.saved_model.save(one_step_model, 'one_step')\n",
        "one_step_reloaded = tf.saved_model.load('one_step')"
      ],
      "metadata": {
        "colab": {
          "base_uri": "https://localhost:8080/"
        },
        "id": "k-YR2RLIVw5e",
        "outputId": "c4e27de4-f03c-46d8-96e5-279e31136fb6"
      },
      "execution_count": 36,
      "outputs": [
        {
          "output_type": "stream",
          "name": "stdout",
          "text": [
            "WARNING:tensorflow:Skipping full serialization of Keras layer <__main__.OneStep object at 0x7f9ae369cf10>, because it is not built.\n"
          ]
        },
        {
          "output_type": "stream",
          "name": "stderr",
          "text": [
            "WARNING:absl:Found untraced functions such as gru_cell_layer_call_fn, gru_cell_layer_call_and_return_conditional_losses while saving (showing 2 of 2). These functions will not be directly callable after loading.\n"
          ]
        },
        {
          "output_type": "stream",
          "name": "stdout",
          "text": [
            "INFO:tensorflow:Assets written to: one_step/assets\n"
          ]
        },
        {
          "output_type": "stream",
          "name": "stderr",
          "text": [
            "INFO:tensorflow:Assets written to: one_step/assets\n"
          ]
        }
      ]
    },
    {
      "cell_type": "code",
      "source": [
        "states = None\n",
        "next_char = tf.constant(['ROMEO:'])\n",
        "result = [next_char]\n",
        "\n",
        "for n in range(100):\n",
        "  next_char, states = one_step_reloaded.generate_one_step(next_char, states=states)\n",
        "  result.append(next_char)\n",
        "\n",
        "print(tf.strings.join(result)[0].numpy().decode(\"utf-8\"))"
      ],
      "metadata": {
        "colab": {
          "base_uri": "https://localhost:8080/"
        },
        "id": "VeMPutSdkC5z",
        "outputId": "53917428-a049-49ac-e703-5a21f141200a"
      },
      "execution_count": 37,
      "outputs": [
        {
          "output_type": "stream",
          "name": "stdout",
          "text": [
            "ROMEO:\n",
            "My love, then he didest me of the guard.\n",
            "And were in grate to my orney\n",
            "That Absolver men in roye bu\n"
          ]
        }
      ]
    },
    {
      "cell_type": "code",
      "source": [
        ""
      ],
      "metadata": {
        "id": "bKqntIH9nXaQ"
      },
      "execution_count": null,
      "outputs": []
    }
  ]
}